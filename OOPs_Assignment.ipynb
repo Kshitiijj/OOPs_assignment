{
 "cells": [
  {
   "cell_type": "code",
   "execution_count": 3,
   "id": "3d3ad7c0-fe22-43fe-aaa6-72a4cb305f33",
   "metadata": {},
   "outputs": [
    {
     "data": {
      "text/plain": [
       "'\\nThe __call__ method allows an object of a class to be called like a function. It is used to define callable objects and add custom behavior when \"calling\" an object.\\n'"
      ]
     },
     "execution_count": 3,
     "metadata": {},
     "output_type": "execute_result"
    }
   ],
   "source": [
    "#Theorotical Questions\n",
    "\n",
    "# 1. What is Object-Oriented Programming (OOP)?\n",
    "\"\"\"\n",
    "OOP is a programming paradigm based on the concept of \"objects,\" which can store data (attributes) and have associated functionality (methods). \n",
    "It emphasizes principles like encapsulation, inheritance, abstraction, and polymorphism to design reusable and modular code.\n",
    "\"\"\"\n",
    "\n",
    "# 2. What is a class in OOP?\n",
    "\"\"\"\n",
    "A class is a blueprint for creating objects. It defines the properties (attributes) and behaviors (methods) that the objects of that class will have. \n",
    "For example, a class 'Car' may have attributes like 'color' and 'speed' and methods like 'drive' and 'stop.'\n",
    "\"\"\"\n",
    "\n",
    "# 3. What is an object in OOP?\n",
    "\"\"\"\n",
    "An object is an instance of a class. It represents a specific entity that has data (attributes) and can perform tasks (methods) defined by the class.\n",
    "For example, an object of the class 'Car' could represent a specific car with the color 'red' and speed '100 km/h.'\n",
    "\"\"\"\n",
    "\n",
    "# 4. What is the difference between abstraction and encapsulation?\n",
    "\"\"\"\n",
    "Abstraction focuses on hiding the implementation details and exposing only the essential features, making it easier for users to interact with the system.\n",
    "Encapsulation, on the other hand, binds data (attributes) and methods (functions) together and restricts direct access to some components using access modifiers.\n",
    "\"\"\"\n",
    "\n",
    "# 5. What are dunder methods in Python?\n",
    "\"\"\"\n",
    "Dunder (double underscore) methods are special methods with names starting and ending with double underscores. \n",
    "They enable custom behaviors for built-in operations. Examples include:\n",
    "- __init__: Constructor method\n",
    "- __str__: String representation of the object\n",
    "- __add__: Defines behavior for the '+' operator\n",
    "\"\"\"\n",
    "\n",
    "# 6. Explain the concept of inheritance in OOP.\n",
    "\"\"\"\n",
    "Inheritance allows a class (child class) to inherit attributes and methods from another class (parent class). \n",
    "This promotes code reuse and hierarchical classification. For example, a 'Car' class can inherit from a 'Vehicle' class, \n",
    "gaining all its attributes and methods while also adding its specific features.\n",
    "\"\"\"\n",
    "\n",
    "# 7. What is polymorphism in OOP?\n",
    "\"\"\"\n",
    "Polymorphism allows objects of different classes to be treated as objects of a common superclass. \n",
    "It lets the same interface be used for different underlying forms (data types). \n",
    "For example, the method 'draw()' could work for objects of both 'Circle' and 'Rectangle' classes.\n",
    "\"\"\"\n",
    "\n",
    "# 8. How is encapsulation achieved in Python?\n",
    "\"\"\"\n",
    "Encapsulation is achieved by making attributes private using a single underscore (_) or double underscore (__). \n",
    "Access to these attributes is controlled using public getter and setter methods, ensuring data security and integrity.\n",
    "\"\"\"\n",
    "\n",
    "# 9. What is a constructor in Python?\n",
    "\"\"\"\n",
    "A constructor is a special method (__init__) in Python that is automatically invoked when an object is created from a class. \n",
    "It is used to initialize the object's attributes. For example:\n",
    "class Car:\n",
    "    def __init__(self, color, speed):\n",
    "        self.color = color\n",
    "        self.speed = speed\n",
    "\"\"\"\n",
    "\n",
    "# 10. What are class and static methods in Python?\n",
    "\"\"\"\n",
    "Class methods are methods that operate on the class as a whole rather than an instance. They are defined using @classmethod and take 'cls' as a parameter.\n",
    "Static methods, defined with @staticmethod, do not access instance or class variables and are used for utility purposes within a class.\n",
    "\"\"\"\n",
    "\n",
    "# 11. What is method overloading in Python?\n",
    "\"\"\"\n",
    "Python does not directly support method overloading like other languages. However, it can be achieved using default arguments or *args and **kwargs \n",
    "to define methods that can accept varying numbers of parameters.\n",
    "\"\"\"\n",
    "\n",
    "# 12. What is method overriding in OOP?\n",
    "\"\"\"\n",
    "Method overriding allows a child class to provide a specific implementation for a method already defined in its parent class. \n",
    "This helps achieve polymorphism. The overridden method in the child class must have the same name and signature as the parent method.\n",
    "\"\"\"\n",
    "\n",
    "# 13. What is a property decorator in Python?\n",
    "\"\"\"\n",
    "The @property decorator in Python is used to define a method as a getter for an attribute. \n",
    "It allows you to access the method like an attribute, enhancing readability and encapsulation. \n",
    "You can also define setters and deleters for the same attribute.\n",
    "\"\"\"\n",
    "\n",
    "# 14. Why is polymorphism important in OOP?\n",
    "\"\"\"\n",
    "Polymorphism provides flexibility in programming by allowing the same interface to be used for different data types or classes. \n",
    "It simplifies code and improves maintainability by enabling a unified approach to handling objects of different types.\n",
    "\"\"\"\n",
    "\n",
    "# 15. What is an abstract class in Python?\n",
    "\"\"\"\n",
    "An abstract class in Python is a class that cannot be instantiated directly and serves as a blueprint for other classes. \n",
    "It is defined using the ABC module and must have at least one abstract method, which must be implemented by its subclasses.\n",
    "\"\"\"\n",
    "\n",
    "# 16. What are the advantages of OOP?\n",
    "\"\"\"\n",
    "OOP offers several advantages:\n",
    "- Code reusability through inheritance\n",
    "- Modularity through encapsulation\n",
    "- Flexibility through polymorphism\n",
    "- Easier maintenance and debugging\n",
    "- Scalability for complex applications\n",
    "\"\"\"\n",
    "\n",
    "# 17. What is the difference between a class variable and an instance variable?\n",
    "\"\"\"\n",
    "A class variable is shared across all instances of a class and is defined at the class level. \n",
    "An instance variable, however, is specific to each object and is defined inside methods like __init__.\n",
    "\"\"\"\n",
    "\n",
    "# 18. What is multiple inheritance in Python?\n",
    "\"\"\"\n",
    "Multiple inheritance allows a class to inherit from more than one parent class, combining their attributes and methods. \n",
    "It can lead to complexity due to the diamond problem, but Python resolves this using the MRO (Method Resolution Order).\n",
    "\"\"\"\n",
    "\n",
    "# 19. Explain the purpose of \"__str__\" and \"__repr__\" methods in Python.\n",
    "\"\"\"\n",
    "__str__ provides a human-readable string representation of an object, typically used for users.\n",
    "__repr__ provides an unambiguous representation of an object, often used for debugging and developers.\n",
    "\"\"\"\n",
    "\n",
    "# 20. What is the significance of the \"super()\" function in Python?\n",
    "\"\"\"\n",
    "The super() function allows a child class to access and call methods or constructors of its parent class. \n",
    "It is particularly useful in method overriding to extend the functionality of the parent method.\n",
    "\"\"\"\n",
    "\n",
    "# 21. What is the significance of the \"__del__\" method in Python?\n",
    "\"\"\"\n",
    "The __del__ method is a destructor in Python. It is called when an object is about to be destroyed and is used to release resources or perform cleanup tasks.\n",
    "\"\"\"\n",
    "\n",
    "# 22. What is the difference between @staticmethod and @classmethod in Python?\n",
    "\"\"\"\n",
    "@staticmethod defines a method that does not access the class or instance. \n",
    "@classmethod takes 'cls' as a parameter and operates on the class level, often used for factory methods.\n",
    "\"\"\"\n",
    "\n",
    "# 23. How does polymorphism work in Python with inheritance?\n",
    "\"\"\"\n",
    "Polymorphism in Python allows overridden methods in a child class to be called through a reference to the parent class, enabling dynamic method resolution.\n",
    "\"\"\"\n",
    "\n",
    "# 24. What is method chaining in Python OOP?\n",
    "\"\"\"\n",
    "Method chaining allows multiple methods to be called on the same object in a single statement. \n",
    "Each method must return 'self' to enable the chain.\n",
    "\"\"\"\n",
    "\n",
    "# 25. What is the purpose of the \"__call__\" method in Python?\n",
    "\"\"\"\n",
    "The __call__ method allows an object of a class to be called like a function. It is used to define callable objects and add custom behavior when \"calling\" an object.\n",
    "\"\"\"\n"
   ]
  },
  {
   "cell_type": "code",
   "execution_count": 5,
   "id": "e4a76faf-0989-4530-9e56-ec7c8bc2fc12",
   "metadata": {},
   "outputs": [],
   "source": [
    "#Practical questions"
   ]
  },
  {
   "cell_type": "code",
   "execution_count": 7,
   "id": "1a1647bf-eb46-45dd-9c9e-4b206551c584",
   "metadata": {},
   "outputs": [
    {
     "name": "stdout",
     "output_type": "stream",
     "text": [
      "The animal makes a sound\n",
      "Bark!\n"
     ]
    }
   ],
   "source": [
    "# 1. Create a parent class Animal with a method speak() that prints a generic message. Create a child class Dog that overrides the speak() method to print 'Bark!'.\n",
    "\n",
    "class Animal:\n",
    "    def speak(self):\n",
    "        print(\"The animal makes a sound\")\n",
    "\n",
    "class Dog(Animal):\n",
    "    def speak(self):\n",
    "        print(\"Bark!\")\n",
    "\n",
    "# Example usage:\n",
    "a = Animal()\n",
    "a.speak()\n",
    "d = Dog()\n",
    "d.speak()"
   ]
  },
  {
   "cell_type": "code",
   "execution_count": 9,
   "id": "e3c7a8bf-0517-4541-8feb-93548369ae88",
   "metadata": {},
   "outputs": [
    {
     "name": "stdout",
     "output_type": "stream",
     "text": [
      "78.5\n",
      "24\n"
     ]
    }
   ],
   "source": [
    "# 2. Write a program to create an abstract class Shape with a method area(). Derive classes Circle and Rectangle from it and implement the area() method in both.\n",
    "\n",
    "from abc import ABC, abstractmethod\n",
    "\n",
    "class Shape(ABC):\n",
    "    @abstractmethod\n",
    "    def area(self):\n",
    "        pass\n",
    "\n",
    "class Circle(Shape):\n",
    "    def __init__(self, radius):\n",
    "        self.radius = radius\n",
    "\n",
    "    def area(self):\n",
    "        return 3.14 * self.radius ** 2\n",
    "\n",
    "class Rectangle(Shape):\n",
    "    def __init__(self, length, width):\n",
    "        self.length = length\n",
    "        self.width = width\n",
    "\n",
    "    def area(self):\n",
    "        return self.length * self.width\n",
    "\n",
    "\n",
    "c = Circle(5)\n",
    "print(c.area())\n",
    "r = Rectangle(4, 6)\n",
    "print(r.area())\n"
   ]
  },
  {
   "cell_type": "code",
   "execution_count": 11,
   "id": "a9b566ec-4c32-49d3-a8e5-215cedd41acf",
   "metadata": {},
   "outputs": [
    {
     "name": "stdout",
     "output_type": "stream",
     "text": [
      "Electric Tesla 75 kWh\n"
     ]
    }
   ],
   "source": [
    "# 3. Implement a multi-level inheritance scenario where a class Vehicle has an attribute type. Derive a class Car and further derive a class ElectricCar that adds a battery attribute.\n",
    "\n",
    "class Vehicle:\n",
    "    def __init__(self, vehicle_type):\n",
    "        self.vehicle_type = vehicle_type\n",
    "\n",
    "class Car(Vehicle):\n",
    "    def __init__(self, vehicle_type, brand):\n",
    "        super().__init__(vehicle_type)\n",
    "        self.brand = brand\n",
    "\n",
    "class ElectricCar(Car):\n",
    "    def __init__(self, vehicle_type, brand, battery_capacity):\n",
    "        super().__init__(vehicle_type, brand)\n",
    "        self.battery_capacity = battery_capacity\n",
    "\n",
    "# Example usage:\n",
    "e_car = ElectricCar(\"Electric\", \"Tesla\", \"75 kWh\")\n",
    "print(e_car.vehicle_type, e_car.brand, e_car.battery_capacity)"
   ]
  },
  {
   "cell_type": "code",
   "execution_count": 13,
   "id": "14127a7f-a916-4998-b234-487079bea113",
   "metadata": {},
   "outputs": [
    {
     "name": "stdout",
     "output_type": "stream",
     "text": [
      "Electric Tesla 75 kWh\n"
     ]
    }
   ],
   "source": [
    "# 4. Implement a multi-level inheritance scenario where a class Vehicle has an attribute type. Derive a class Car and further derive a class ElectricCar that adds a battery attribute.\n",
    "\n",
    "class Vehicle:\n",
    "    def __init__(self, vehicle_type):\n",
    "        self.vehicle_type = vehicle_type\n",
    "\n",
    "class Car(Vehicle):\n",
    "    def __init__(self, vehicle_type, brand):\n",
    "        super().__init__(vehicle_type)\n",
    "        self.brand = brand\n",
    "\n",
    "class ElectricCar(Car):\n",
    "    def __init__(self, vehicle_type, brand, battery_capacity):\n",
    "        super().__init__(vehicle_type, brand)\n",
    "        self.battery_capacity = battery_capacity\n",
    "\n",
    "# Example usage:\n",
    "e_car = ElectricCar(\"Electric\", \"Tesla\", \"75 kWh\")\n",
    "print(e_car.vehicle_type, e_car.brand, e_car.battery_capacity)"
   ]
  },
  {
   "cell_type": "code",
   "execution_count": 15,
   "id": "fd4bfaa8-352f-4aab-8756-cc46102b48b3",
   "metadata": {},
   "outputs": [
    {
     "name": "stdout",
     "output_type": "stream",
     "text": [
      "120\n"
     ]
    }
   ],
   "source": [
    "# 5. Write a program to demonstrate encapsulation by creating a class BankAccount with private attributes balance and methods to deposit, withdraw, and check balance.\n",
    "\n",
    "class BankAccount:\n",
    "    def __init__(self, balance=0):\n",
    "        self.__balance = balance\n",
    "\n",
    "    def deposit(self, amount):\n",
    "        self.__balance += amount\n",
    "\n",
    "    def withdraw(self, amount):\n",
    "        if amount <= self.__balance:\n",
    "            self.__balance -= amount\n",
    "        else:\n",
    "            print(\"Insufficient funds\")\n",
    "\n",
    "    def check_balance(self):\n",
    "        return self.__balance\n",
    "\n",
    "\n",
    "account = BankAccount(100)\n",
    "account.deposit(50)\n",
    "account.withdraw(30)\n",
    "print(account.check_balance())"
   ]
  },
  {
   "cell_type": "code",
   "execution_count": 17,
   "id": "bd69bb98-5463-431c-9642-9c384e4f0347",
   "metadata": {},
   "outputs": [
    {
     "name": "stdout",
     "output_type": "stream",
     "text": [
      "Playing the guitar\n",
      "Playing the piano\n"
     ]
    }
   ],
   "source": [
    "# 6. Demonstrate runtime polymorphism using a method play() in a base class Instrument. Derive classes Guitar and Piano that implement their own version of play().\n",
    "\n",
    "class Instrument:\n",
    "    def play(self):\n",
    "        print(\"Playing an instrument\")\n",
    "\n",
    "class Guitar(Instrument):\n",
    "    def play(self):\n",
    "        print(\"Playing the guitar\")\n",
    "\n",
    "class Piano(Instrument):\n",
    "    def play(self):\n",
    "        print(\"Playing the piano\")\n",
    "\n",
    "\n",
    "g = Guitar()\n",
    "g.play()\n",
    "p = Piano()\n",
    "p.play()\n"
   ]
  },
  {
   "cell_type": "code",
   "execution_count": 19,
   "id": "6f4e85ec-9811-4eeb-b5b3-9560ef5c07f4",
   "metadata": {},
   "outputs": [
    {
     "name": "stdout",
     "output_type": "stream",
     "text": [
      "15\n",
      "5\n"
     ]
    }
   ],
   "source": [
    "# 7. Create a class MathOperations with a class method add_numbers() to add two numbers and a static method subtract_numbers() to subtract two numbers.\n",
    "\n",
    "class MathOperations:\n",
    "    @classmethod\n",
    "    def add_numbers(cls, a, b):\n",
    "        return a + b\n",
    "\n",
    "    @staticmethod\n",
    "    def subtract_numbers(a, b):\n",
    "        return a - b\n",
    "\n",
    "\n",
    "print(MathOperations.add_numbers(10, 5))\n",
    "print(MathOperations.subtract_numbers(10, 5))"
   ]
  },
  {
   "cell_type": "code",
   "execution_count": 21,
   "id": "b3740802-30bc-4ade-a401-e7481945908c",
   "metadata": {},
   "outputs": [
    {
     "name": "stdout",
     "output_type": "stream",
     "text": [
      "2\n"
     ]
    }
   ],
   "source": [
    "# 8. Implement a class Person with a class method to count the total number of persons created.\n",
    "\n",
    "class Person:\n",
    "    count = 0\n",
    "\n",
    "    def __init__(self, name):\n",
    "        self.name = name\n",
    "        Person.count += 1\n",
    "\n",
    "    @classmethod\n",
    "    def total_persons(cls):\n",
    "        return cls.count\n",
    "\n",
    "\n",
    "p1 = Person(\"Alice\")\n",
    "p2 = Person(\"Bob\")\n",
    "print(Person.total_persons())\n",
    "\n",
    "\n",
    "\n"
   ]
  },
  {
   "cell_type": "code",
   "execution_count": 23,
   "id": "c4f92a1d-4d1d-4566-83d2-c38bbd75852b",
   "metadata": {},
   "outputs": [
    {
     "name": "stdout",
     "output_type": "stream",
     "text": [
      "3/4\n"
     ]
    }
   ],
   "source": [
    "# 9. Write a class Fraction with attributes numerator and denominator. Override the str method to display the fraction as 'numerator/denominator'.\n",
    "\n",
    "class Fraction:\n",
    "    def __init__(self, numerator, denominator):\n",
    "        self.numerator = numerator\n",
    "        self.denominator = denominator\n",
    "\n",
    "    def __str__(self):\n",
    "        return f\"{self.numerator}/{self.denominator}\"\n",
    "\n",
    "\n",
    "f = Fraction(3, 4)\n",
    "print(f)\n"
   ]
  },
  {
   "cell_type": "code",
   "execution_count": 25,
   "id": "09f0f0a4-ad49-4338-b0bc-b044bc1bdafc",
   "metadata": {},
   "outputs": [
    {
     "name": "stdout",
     "output_type": "stream",
     "text": [
      "Vector(4, 6)\n"
     ]
    }
   ],
   "source": [
    "# 10. Demonstrate operator overloading by creating a class Vector and overriding the add method to add two vectors.\n",
    "\n",
    "class Vector:\n",
    "    def __init__(self, x, y):\n",
    "        self.x = x\n",
    "        self.y = y\n",
    "\n",
    "    def __add__(self, other):\n",
    "        return Vector(self.x + other.x, self.y + other.y)\n",
    "\n",
    "    def __str__(self):\n",
    "        return f\"Vector({self.x}, {self.y})\"\n",
    "\n",
    "\n",
    "v1 = Vector(1, 2)\n",
    "v2 = Vector(3, 4)\n",
    "print(v1 + v2)"
   ]
  },
  {
   "cell_type": "code",
   "execution_count": 27,
   "id": "179a5754-0a19-4236-8d97-964b6af1ee59",
   "metadata": {},
   "outputs": [
    {
     "name": "stdout",
     "output_type": "stream",
     "text": [
      "Hello, my name is John and I am 30 years old.\n"
     ]
    }
   ],
   "source": [
    "# 11. Create a class Person with attributes name and age. Add a method greet() that prints 'Hello, my name is {name} and I am {age} years old.'\n",
    "\n",
    "class Person:\n",
    "    def __init__(self, name, age):\n",
    "        self.name = name\n",
    "        self.age = age\n",
    "\n",
    "    def greet(self):\n",
    "        print(f\"Hello, my name is {self.name} and I am {self.age} years old.\")\n",
    "\n",
    "\n",
    "p = Person(\"John\", 30)\n",
    "p.greet()"
   ]
  },
  {
   "cell_type": "code",
   "execution_count": 29,
   "id": "10870913-963b-4f60-8b87-b96f7380f701",
   "metadata": {},
   "outputs": [
    {
     "name": "stdout",
     "output_type": "stream",
     "text": [
      "85.0\n"
     ]
    }
   ],
   "source": [
    "# 12. Implement a class Student with attributes name and grades. Create a method average_grade() to compute the average of the grades.\n",
    "\n",
    "class Student:\n",
    "    def __init__(self, name, grades):\n",
    "        self.name = name\n",
    "        self.grades = grades\n",
    "\n",
    "    def average_grade(self):\n",
    "        return sum(self.grades) / len(self.grades)\n",
    "\n",
    "\n",
    "s = Student(\"Alice\", [90, 80, 85])\n",
    "print(s.average_grade())"
   ]
  },
  {
   "cell_type": "code",
   "execution_count": 31,
   "id": "4e5ef161-ae90-4d9e-bd2a-58c15831daa9",
   "metadata": {},
   "outputs": [
    {
     "name": "stdout",
     "output_type": "stream",
     "text": [
      "20\n"
     ]
    }
   ],
   "source": [
    "# 13. Create a class Rectangle with methods set_dimensions() to set the dimensions and area() to calculate the area.\n",
    "\n",
    "class Rectangle:\n",
    "    def set_dimensions(self, length, width):\n",
    "        self.length = length\n",
    "        self.width = width\n",
    "\n",
    "    def area(self):\n",
    "        return self.length * self.width\n",
    "\n",
    "\n",
    "r = Rectangle()\n",
    "r.set_dimensions(4, 5)\n",
    "print(r.area())"
   ]
  },
  {
   "cell_type": "code",
   "execution_count": 33,
   "id": "e798a551-7964-4864-aca1-d9e75c7e974c",
   "metadata": {},
   "outputs": [
    {
     "name": "stdout",
     "output_type": "stream",
     "text": [
      "2500\n"
     ]
    }
   ],
   "source": [
    "# 14. Create a class Employee with a method calculate_salary() that computes the salary based on hours worked and hourly rate. Create a derived class Manager that adds a bonus to the salary.\n",
    "\n",
    "class Employee:\n",
    "    def calculate_salary(self, hours_worked, hourly_rate):\n",
    "        return hours_worked * hourly_rate\n",
    "\n",
    "class Manager(Employee):\n",
    "    def calculate_salary(self, hours_worked, hourly_rate, bonus):\n",
    "        return super().calculate_salary(hours_worked, hourly_rate) + bonus\n",
    "\n",
    "\n",
    "m = Manager()\n",
    "print(m.calculate_salary(40, 50, 500))"
   ]
  },
  {
   "cell_type": "code",
   "execution_count": 35,
   "id": "fe93f586-dd18-4107-9be5-71a07d81b3b8",
   "metadata": {},
   "outputs": [
    {
     "name": "stdout",
     "output_type": "stream",
     "text": [
      "3000\n"
     ]
    }
   ],
   "source": [
    "# 15. Create a class Product with attributes name, price, and quantity. Implement a method total_price() that calculates the total price of the product.\n",
    "\n",
    "class Product:\n",
    "    def __init__(self, name, price, quantity):\n",
    "        self.name = name\n",
    "        self.price = price\n",
    "        self.quantity = quantity\n",
    "\n",
    "    def total_price(self):\n",
    "        return self.price * self.quantity\n",
    "\n",
    "\n",
    "p = Product(\"Laptop\", 1000, 3)\n",
    "print(p.total_price())\n"
   ]
  },
  {
   "cell_type": "code",
   "execution_count": 37,
   "id": "d0b2454a-db40-4462-91b0-1793cb3c5ddb",
   "metadata": {},
   "outputs": [
    {
     "name": "stdout",
     "output_type": "stream",
     "text": [
      "Moo\n",
      "Baa\n"
     ]
    }
   ],
   "source": [
    "# 16. Create a class Animal with an abstract method sound(). Create two derived classes Cow and Sheep that implement the sound() method.\n",
    "\n",
    "from abc import ABC, abstractmethod\n",
    "\n",
    "class Animal(ABC):\n",
    "    @abstractmethod\n",
    "    def sound(self):\n",
    "        pass\n",
    "\n",
    "class Cow(Animal):\n",
    "    def sound(self):\n",
    "        return \"Moo\"\n",
    "\n",
    "class Sheep(Animal):\n",
    "    def sound(self):\n",
    "        return \"Baa\"\n",
    "\n",
    "\n",
    "cow = Cow()\n",
    "sheep = Sheep()\n",
    "print(cow.sound())\n",
    "print(sheep.sound())\n",
    "\n"
   ]
  },
  {
   "cell_type": "code",
   "execution_count": 39,
   "id": "f1755664-0d1c-441a-83bf-0c0efbd6962b",
   "metadata": {},
   "outputs": [
    {
     "name": "stdout",
     "output_type": "stream",
     "text": [
      "'1984' by George Orwell, published in 1949\n"
     ]
    }
   ],
   "source": [
    "# 17. Create a class Book with attributes title, author, and year_published. Add a method get_book_info() that returns a formatted string with the book's details.\n",
    "\n",
    "class Book:\n",
    "    def __init__(self, title, author, year_published):\n",
    "        self.title = title\n",
    "        self.author = author\n",
    "        self.year_published = year_published\n",
    "\n",
    "    def get_book_info(self):\n",
    "        return f\"'{self.title}' by {self.author}, published in {self.year_published}\"\n",
    "\n",
    "\n",
    "b = Book(\"1984\", \"George Orwell\", 1949)\n",
    "print(b.get_book_info())\n"
   ]
  },
  {
   "cell_type": "code",
   "execution_count": 41,
   "id": "b175f36b-2368-4b14-bfeb-e64f7f8d7d08",
   "metadata": {},
   "outputs": [
    {
     "name": "stdout",
     "output_type": "stream",
     "text": [
      "123 Fancy St 500000 10\n"
     ]
    }
   ],
   "source": [
    "# 18. Create a class House with attributes address and price. Create a derived class Mansion that adds an attribute number_of_rooms.\n",
    "\n",
    "class House:\n",
    "    def __init__(self, address, price):\n",
    "        self.address = address\n",
    "        self.price = price\n",
    "\n",
    "class Mansion(House):\n",
    "    def __init__(self, address, price, number_of_rooms):\n",
    "        super().__init__(address, price)\n",
    "        self.number_of_rooms = number_of_rooms\n",
    "\n",
    "# Example usage:\n",
    "mansion = Mansion(\"123 Fancy St\", 500000, 10)\n",
    "print(mansion.address, mansion.price, mansion.number_of_rooms)"
   ]
  },
  {
   "cell_type": "code",
   "execution_count": null,
   "id": "8c525034-406a-48df-80bf-67f3d2f2bfcf",
   "metadata": {},
   "outputs": [],
   "source": []
  }
 ],
 "metadata": {
  "kernelspec": {
   "display_name": "Python 3 (ipykernel)",
   "language": "python",
   "name": "python3"
  },
  "language_info": {
   "codemirror_mode": {
    "name": "ipython",
    "version": 3
   },
   "file_extension": ".py",
   "mimetype": "text/x-python",
   "name": "python",
   "nbconvert_exporter": "python",
   "pygments_lexer": "ipython3",
   "version": "3.12.7"
  }
 },
 "nbformat": 4,
 "nbformat_minor": 5
}
